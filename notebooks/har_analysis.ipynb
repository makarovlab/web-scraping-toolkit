{
 "cells": [
  {
   "cell_type": "code",
   "execution_count": 17,
   "metadata": {},
   "outputs": [],
   "source": [
    "import json"
   ]
  },
  {
   "cell_type": "code",
   "execution_count": 26,
   "metadata": {},
   "outputs": [],
   "source": [
    "import re\n",
    "\n",
    "def has_latitude(text: str) -> bool:\n",
    "    has_latitude = False\n",
    "    matched_latitudes = re.findall(r\"-?(?<!\\d)\\d{,2}(?<=\\d)\\.\\d{,20}\", text)\n",
    "\n",
    "    if any([float(lat) >= -90 and float(lat) <= 90 for lat in  matched_latitudes]):\n",
    "        has_latitude = True\n",
    "\n",
    "    return has_latitude\n",
    "\n",
    "\n",
    "def has_longitude(text: str) -> bool:\n",
    "    has_latitude = False\n",
    "    matched_latitudes = re.findall(r\"-?(?<!\\d)\\d{,3}(?<=\\d)\\.\\d{,20}\", text)\n",
    "\n",
    "    if any([float(lat) >= -180 and float(lat) <= 180 for lat in  matched_latitudes]):\n",
    "        has_latitude = True\n",
    "\n",
    "    return has_latitude\n",
    "\n",
    "\n",
    "def has_coordinates(text: str) -> bool:\n",
    "    has_lat = has_latitude(text)\n",
    "    has_lon = has_longitude(text)\n",
    "\n",
    "    if has_lat and has_lon:\n",
    "        return True\n",
    "    else:\n",
    "        return False\n",
    "\n",
    "CONTENT_TYPES = [\n",
    "    \"text/csv\",\n",
    "    \"text/html\",\n",
    "    # \"text/javascript\",\n",
    "    \"text/xml\",\n",
    "    \"text/plain\",\n",
    "    \"application/json\",\n",
    "    \"application/xml\",\n",
    "    \"application/zip\",\n",
    "    \"application/x-www-form-urlencoded\",\n",
    "    \"multipart/form-data\",\n",
    "]\n",
    "\n",
    "url_stop_words = [\n",
    "    \"css\",\n",
    "    \"styles\",\n",
    "    \"google\",\n",
    "    \"googleapis\",\n",
    "    \"bing\",\n",
    "    \"virtualearth\",\n",
    "    \"autosuggest\",\n",
    "    \"geocode\",\n",
    "    \"mapbox\",\n",
    "    \"tomtom\",\n",
    "    \"gstatic\",\n",
    "]"
   ]
  },
  {
   "cell_type": "code",
   "execution_count": 2,
   "metadata": {},
   "outputs": [],
   "source": [
    "with open(\"../har_examples/www.avoska.ru.har\") as file:\n",
    "    har = json.load(file)"
   ]
  },
  {
   "cell_type": "code",
   "execution_count": 4,
   "metadata": {},
   "outputs": [],
   "source": [
    "entries = har[\"log\"][\"entries\"]"
   ]
  },
  {
   "cell_type": "code",
   "execution_count": 31,
   "metadata": {},
   "outputs": [
    {
     "data": {
      "text/plain": [
       "['https://www.avoska.ru/shops/',\n",
       " 'https://www.avoska.ru/api/get_shops.php?',\n",
       " 'https://www.avoska.ru/api/get_shops.php?map=1']"
      ]
     },
     "execution_count": 31,
     "metadata": {},
     "output_type": "execute_result"
    }
   ],
   "source": [
    "def filter_requests(entries):\n",
    "    for request in entries:\n",
    "        status = request[\"response\"][\"status\"]\n",
    "\n",
    "        if status == 200:\n",
    "            if not any([stop_word in request[\"request\"][\"url\"] for stop_word in url_stop_words]):\n",
    "                content = request[\"response\"][\"content\"]\n",
    "\n",
    "                if content.get(\"size\") > 0 and len(content.get(\"text\", \"\")) > 0 and content[\"mimeType\"] in CONTENT_TYPES:\n",
    "                    if has_coordinates(content.get(\"text\")):\n",
    "                        yield request[\"request\"][\"url\"]\n",
    "                    \n",
    "\n",
    "list(filter_requests(entries))"
   ]
  }
 ],
 "metadata": {
  "kernelspec": {
   "display_name": "web-scraping-toolkit-CMlm1C0Z",
   "language": "python",
   "name": "python3"
  },
  "language_info": {
   "codemirror_mode": {
    "name": "ipython",
    "version": 3
   },
   "file_extension": ".py",
   "mimetype": "text/x-python",
   "name": "python",
   "nbconvert_exporter": "python",
   "pygments_lexer": "ipython3",
   "version": "3.10.12"
  }
 },
 "nbformat": 4,
 "nbformat_minor": 2
}
